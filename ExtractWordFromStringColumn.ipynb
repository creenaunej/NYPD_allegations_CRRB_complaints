{
 "cells": [
  {
   "cell_type": "code",
   "execution_count": 1,
   "metadata": {},
   "outputs": [],
   "source": [
    "import pandas as pd\n",
    "%matplotlib notebook\n",
    "import matplotlib.pyplot as plt\n",
    "import numpy as np"
   ]
  },
  {
   "cell_type": "code",
   "execution_count": 6,
   "metadata": {},
   "outputs": [],
   "source": [
    "nypd_allegations = pd.read_csv(\"/Users/jordancreenaune/Desktop/Python_for_Data_Science/Jordan_Projects/NYPD_Allegations/allegations.csv\")\n",
    "\n",
    "#A snapshot of the data.\n",
    "nypd_allegations = nypd_allegations.head(10)"
   ]
  },
  {
   "cell_type": "code",
   "execution_count": 8,
   "metadata": {},
   "outputs": [
    {
     "name": "stdout",
     "output_type": "stream",
     "text": [
      "['Substantiated', 'Substantiated', 'Substantiated', 'Substantiated', 'Substantiated', 'Substantiated', 'Substantiated', 'Unsubstantiated', 'Unsubstantiated', 'Substantiated']\n"
     ]
    }
   ],
   "source": [
    "SubUnsub = [nypd_allegations.board_disposition.str.split(' ')[index][0]\n",
    "             for index in range(0, len(nypd_allegations))]\n",
    "print(SubUnsub)"
   ]
  },
  {
   "cell_type": "code",
   "execution_count": 14,
   "metadata": {},
   "outputs": [],
   "source": [
    "word1 = \"Substantiated\"\n",
    "word2 = \"Unsubstantiated\"\n",
    "#count = SubUnsub\n",
    "\n",
    "count1 = SubUnsub.count(word1)\n",
    "count2 = SubUnsub.count(word2)"
   ]
  },
  {
   "cell_type": "code",
   "execution_count": 16,
   "metadata": {},
   "outputs": [
    {
     "data": {
      "text/plain": [
       "8"
      ]
     },
     "execution_count": 16,
     "metadata": {},
     "output_type": "execute_result"
    }
   ],
   "source": [
    "# intialise data of lists.\n",
    "data = {'Name':['Tom', 'nick', 'krish', 'jack'],\n",
    "        'Age':[20, 21, 19, 18]}\n",
    "  \n",
    "# Create DataFrame\n",
    "df = pd.DataFrame(data)\n",
    "  \n",
    "# Print the output.\n",
    "df"
   ]
  },
  {
   "cell_type": "code",
   "execution_count": null,
   "metadata": {},
   "outputs": [],
   "source": []
  }
 ],
 "metadata": {
  "kernelspec": {
   "display_name": "Python 3",
   "language": "python",
   "name": "python3"
  },
  "language_info": {
   "codemirror_mode": {
    "name": "ipython",
    "version": 3
   },
   "file_extension": ".py",
   "mimetype": "text/x-python",
   "name": "python",
   "nbconvert_exporter": "python",
   "pygments_lexer": "ipython3",
   "version": "3.7.3"
  }
 },
 "nbformat": 4,
 "nbformat_minor": 2
}
