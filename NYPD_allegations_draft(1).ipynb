{
 "cells": [
  {
   "cell_type": "markdown",
   "id": "da860f4c",
   "metadata": {},
   "source": [
    "Possible Data analyses,\n",
    "    - Examine data and remove duplicates\n",
    "    - Age of officers (done)\n",
    "    - Race of officers (done)\n",
    "    - Complaints per year (done)\n",
    "    - Race of complaints (done)\n",
    "    - Age of complaints (done)\n",
    "    - Graph of officers most to least (done - top 20 in df)\n",
    "    - Graph of precints most to least (done - top 20 in df)\n",
    "    - Type of complaint (Graph done - percentage)\n",
    "    - Substantiated complaints vs unsubstantiated, description of why this is problematic to investigate your own crimes (done + percentages)\n",
    "    - Type of complaint wrt substantiated\n",
    "    - Substantiated - wrt year (to see if there are more substantiated complaints now than before) \n",
    "    - Substantiated male vs female \n",
    "    - Heatmap - correlation between race,\n",
    "    - Race of citizen \n",
    "    - Correlation graph between race, black to white, white to black, asian to white etc\n",
    "    "
   ]
  },
  {
   "cell_type": "code",
   "execution_count": null,
   "id": "7189239e",
   "metadata": {},
   "outputs": [],
   "source": []
  }
 ],
 "metadata": {
  "kernelspec": {
   "display_name": "Python 3 (ipykernel)",
   "language": "python",
   "name": "python3"
  },
  "language_info": {
   "codemirror_mode": {
    "name": "ipython",
    "version": 3
   },
   "file_extension": ".py",
   "mimetype": "text/x-python",
   "name": "python",
   "nbconvert_exporter": "python",
   "pygments_lexer": "ipython3",
   "version": "3.9.7"
  }
 },
 "nbformat": 4,
 "nbformat_minor": 5
}
